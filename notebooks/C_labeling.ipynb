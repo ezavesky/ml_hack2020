{
 "cells": [
  {
   "cell_type": "markdown",
   "metadata": {},
   "source": [
    "![Machine Learning Workshop: Content Insights 2020](assets/mlci_banner.jpg)\n",
    "\n",
    "# Machine Learning Workshop: Content Insights 2020\n",
    "\n",
    "Welcome to the workshop notebooks!  These notebooks are designed to give you a walk through the steps of creating a model, refining it with user labels, and testing it on content.  You can access the main [workshop forum page](https://INFO_SITE/forums/html/forum?id=241a0b77-7aa6-4fef-9f25-5ea351825725&ps=25), the [workshop files repo](https://INFO_SITE/communities/service/html/communityview?communityUuid=fb400868-b17c-44d8-8b63-b445d26a0be4#fullpageWidgetId=W403a0d6f86de_45aa_8b67_c52cf90fca16&folder=d8138bef-9182-4bdc-8b12-3c88158a219c), or the [symposium home page](https://software.web.DOMAIN) for additional help.\n",
    "\n",
    "The notebooks are divided into five core components: (A) setup & data, (B) model exploration, (C) labeling, (D) active labeling, (E) and deployment.  You are currently viewing the *setup & data* workbook.\n",
    "\n",
    "Start your LabelQuest journey by clicking here ...\n",
    "\n",
    "## Log In: https://APP_SITE\n",
    "\n",
    "## Get your Token : https://APP_SITE/api/lq/v1/uam/auth"
   ]
  },
  {
   "cell_type": "code",
   "execution_count": 1,
   "metadata": {},
   "outputs": [],
   "source": [
    "# constants for running the workshop; we'll repeat these in the top line of each workbook.\n",
    "#   why repeat them? the backup routine only serializes .ipynb files, so others will need \n",
    "#   to be downloaded again if your compute instance restarts (a small price to pay, right?)\n",
    "\n",
    "WORKSHOP_BASE = \"https://vmlr-workshop.STORAGE\"\n",
    "# WORKSHOP_BASE = \"http://content.research.DOMAIN/projects/mlci_2020\"\n",
    "AGG_METADATA = \"models/agg_metadata.pkl.gz\"            # custom file for merged metadata\n",
    "CLASS_DEFINITIONS = \"assets/classes.json\"       # provided file for class info\n",
    "\n",
    "# you need to provide this (copy the string from https://APP_SITE/api/lq/v1/uam/auth)\n",
    "LQ_JWT = \"\"  \n",
    "LQ_ROOT_URL = \"https://APP_SITE\"\n",
    "LQ_ROOT_SSL_VERIFY = False\n",
    "\n",
    "IMDB5000_FEAT = \"packages/movie_metadata.csv\"   # public dataset for movies"
   ]
  },
  {
   "cell_type": "markdown",
   "metadata": {},
   "source": [
    "# Notebook C: Self-Service Labeling\n",
    "\n",
    "Collecting labels can be an arduous, expensive task.  That's why we're turning to an internal platform that simplifies the process with a programmatic API and democrtizes the labelers to some or all of your fellow employees.  In this notebook, we will focus on creating, exploring, and tuning a labeling campaign.  The task herein takes a momentary break away from our contextual advertising focus, but we'll use skill here to continue that direction in the next notebook.\n",
    "\n",
    "![LabelQuest](assets/labelquest_banner.jpg)\n",
    "\n",
    "[LabelQuest](https://lq.web.DOMAIN) is an AT&T labeling platform that allows task creation through programmatic API and broad label solicitation across the enterprise.  While due dilligence is still required to avoid senstive information and content, the tracking of labels and compliance-approved usage of the software on desktops, laptops, and tablets is already there.  Additionally, the gamification of the labeling task, manifesting in variance of tasks, a simple but intutitive UX, and the awarding of points and badges may keep spirits up if the number of tasks starts to build up."
   ]
  },
  {
   "cell_type": "markdown",
   "metadata": {},
   "source": [
    "# Pythonic API\n"
   ]
  },
  {
   "cell_type": "code",
   "execution_count": 2,
   "metadata": {},
   "outputs": [
    {
     "data": {
      "text/html": [
       "<div>\n",
       "<style scoped>\n",
       "    .dataframe tbody tr th:only-of-type {\n",
       "        vertical-align: middle;\n",
       "    }\n",
       "\n",
       "    .dataframe tbody tr th {\n",
       "        vertical-align: top;\n",
       "    }\n",
       "\n",
       "    .dataframe thead th {\n",
       "        text-align: right;\n",
       "    }\n",
       "</style>\n",
       "<table border=\"1\" class=\"dataframe\">\n",
       "  <thead>\n",
       "    <tr style=\"text-align: right;\">\n",
       "      <th></th>\n",
       "      <th>class</th>\n",
       "      <th>definition</th>\n",
       "      <th>primary</th>\n",
       "    </tr>\n",
       "  </thead>\n",
       "  <tbody>\n",
       "    <tr>\n",
       "      <th>0</th>\n",
       "      <td>holiday</td>\n",
       "      <td>holiday scenes or objects like decorated trees, presents, or character, holiday party</td>\n",
       "      <td>1</td>\n",
       "    </tr>\n",
       "    <tr>\n",
       "      <th>1</th>\n",
       "      <td>halloween</td>\n",
       "      <td>halloween scenes where one or more characters are in costume, ideally one or more characters are trick-or-treating</td>\n",
       "      <td>1</td>\n",
       "    </tr>\n",
       "    <tr>\n",
       "      <th>2</th>\n",
       "      <td>gift giving</td>\n",
       "      <td>scenes of gift giving, receiving, or opening/unwrapping</td>\n",
       "      <td>1</td>\n",
       "    </tr>\n",
       "    <tr>\n",
       "      <th>3</th>\n",
       "      <td>family moments</td>\n",
       "      <td>at least two people on screen, typically familes at parties, enjoying a meal, lounging at home</td>\n",
       "      <td>0</td>\n",
       "    </tr>\n",
       "    <tr>\n",
       "      <th>4</th>\n",
       "      <td>shopping scenes</td>\n",
       "      <td>one or more primary actors in a store-like environment; not necessary to see their face</td>\n",
       "      <td>0</td>\n",
       "    </tr>\n",
       "  </tbody>\n",
       "</table>\n",
       "</div>"
      ],
      "text/plain": [
       "             class  \\\n",
       "0          holiday   \n",
       "1        halloween   \n",
       "2      gift giving   \n",
       "3   family moments   \n",
       "4  shopping scenes   \n",
       "\n",
       "                                                                                                           definition  \\\n",
       "0                               holiday scenes or objects like decorated trees, presents, or character, holiday party   \n",
       "1  halloween scenes where one or more characters are in costume, ideally one or more characters are trick-or-treating   \n",
       "2                                                             scenes of gift giving, receiving, or opening/unwrapping   \n",
       "3                      at least two people on screen, typically familes at parties, enjoying a meal, lounging at home   \n",
       "4                             one or more primary actors in a store-like environment; not necessary to see their face   \n",
       "\n",
       "   primary  \n",
       "0        1  \n",
       "1        1  \n",
       "2        1  \n",
       "3        0  \n",
       "4        0  "
      ]
     },
     "metadata": {},
     "output_type": "display_data"
    },
    {
     "name": "stdout",
     "output_type": "stream",
     "text": [
      "Loaded 5 classes and 122736 tag rows.\n"
     ]
    }
   ],
   "source": [
    "import lq\n",
    "from lq.content_label import ContentLabeler\n",
    "from pathlib import Path\n",
    "import pandas as pd\n",
    "\n",
    "if not LQ_JWT:\n",
    "    LQ_JWT = ContentLabeler.jwt_load(\"auth.json\")\n",
    "if not LQ_JWT:\n",
    "    raise Exception(\"\"\"\n",
    "        No token detected (in LQ_JWT), please authenticate and get your JWT token.\n",
    "        1. Log into the test instance of LQ - https://APP_SITE/\n",
    "        2a. Get your LQ token from here - https://APP_SITE/api/lq/v1/uam/auth\n",
    "        2b. OR Save the produced JSON file to the same directory as this script (as auth.json)\n",
    "    \"\"\")\n",
    "\n",
    "pd.set_option('display.max_colwidth',1000)\n",
    "df_classes = pd.read_json(CLASS_DEFINITIONS)\n",
    "display(df_classes)\n",
    "\n",
    "path_metadata = Path(AGG_METADATA)\n",
    "if not path_metadata.exists():\n",
    "    raise Exception(f\"\"\"\n",
    "        Please return to notebook A to run data flattening and merging!\n",
    "        A file '{AGG_METADATA}' will be created after successful execution.\n",
    "    \"\"\")\n",
    "df_flatten = pd.read_pickle(str(path_metadata))\n",
    "print(f\"Loaded {len(df_classes)} classes and {len(df_flatten)} tag rows.\")\n"
   ]
  },
  {
   "cell_type": "markdown",
   "metadata": {},
   "source": [
    "## Project Creation\n",
    "This cell demonstrates basic functions for listing, retrieving and creating new projects.  To avoid any confusion, the code discussions will use the term `project` instead of `campaign` but otherwise they are meant to be interchangable in this workshop.\n",
    "\n",
    "The sample below demos these functions...\n",
    "* `ContentLabeler.list()` - queries active projects with \n",
    "* `ContentLabeler.tasks_retrieve()` - query the tasks under a single project with \n",
    "* `ContentLabeler.load()` - create or load an existing project\n",
    "* `ContentLabeler.delete()` - delete a project that has been loaded\n"
   ]
  },
  {
   "cell_type": "code",
   "execution_count": 3,
   "metadata": {
    "scrolled": false
   },
   "outputs": [
    {
     "data": {
      "application/vnd.jupyter.widget-view+json": {
       "model_id": "7e88f73841384e9a856da65ae98e6207",
       "version_major": 2,
       "version_minor": 0
      },
      "text/plain": [
       "VBox(children=(Dropdown(description='Project:', layout=Layout(width='90%'), options=(), value=None), HBox(chil…"
      ]
     },
     "metadata": {},
     "output_type": "display_data"
    },
    {
     "data": {
      "application/vnd.jupyter.widget-view+json": {
       "model_id": "226f3544b3cd4e1eab5864cdae2bbdc8",
       "version_major": 2,
       "version_minor": 0
      },
      "text/plain": [
       "Output()"
      ]
     },
     "metadata": {},
     "output_type": "display_data"
    }
   ],
   "source": [
    "from IPython.display import display\n",
    "import ipywidgets as widgets\n",
    "from functools import partial\n",
    "import random\n",
    "\n",
    "pd.set_option('display.max_colwidth',1000)\n",
    "\n",
    "# first, create a handy content labeling instance\n",
    "labeler = ContentLabeler(LQ_JWT, LQ_ROOT_URL, verbose=False, ssl_verify=LQ_ROOT_SSL_VERIFY)\n",
    "\n",
    "def proj_create_ex(proj_title=\"emotion_check\"):\n",
    "    # let's create a simple textual campaign\n",
    "    labeler.load(proj_title, create_if_missing=True)\n",
    "    if not labeler.valid:\n",
    "        raise Exception(\"\"\"\n",
    "        Uh oh, failed to create a new project.  Make sure your token is valid and check above errors.\"\"\")\n",
    "    list_classes = [\"happy\", \"sad\", \"neutral\"]\n",
    "    list_media = [\"A juicy apple\", \"A long-time friend\", \"In-laws\", \"Tax day\", \"Rainy days\", \"Fuzzy cats\", \"A cold beverage\", \"Spam\", \"Pocket Lint\"]\n",
    "    random.shuffle(list_media)\n",
    "    text_questions = \"Please select your primary emotion when thinking of these items\"\n",
    "    list_cut = list_media[:3]  # just enough\n",
    "    num_inserted = labeler.tasks_insert(list_classes, list_cut, is_exclusive=True, data_question=text_questions)\n",
    "    if num_inserted == 0:  # hrm, it says no new inserts, let's check for a prior project\n",
    "        list_tasks = labeler.tasks_retrieve(0)   # -1=label only, 0=all, 1=unlabeled\n",
    "        print(f\"The project '{proj_title}' already exists, with {len(list_tasks)} tasks of expected {len(list_cut)} tasks\")\n",
    "        assert len(list_tasks) == len(list_cut)\n",
    "    else:\n",
    "        print(f\"The project '{proj_title}' was created, with {num_inserted} tasks of expected {len(list_cut)} tasks\")\n",
    "        assert num_inserted == len(list_cut)\n",
    "    print(f\"That's it for basic project creation, head to LQ to check it out: {LQ_ROOT_URL}\")\n",
    "\n",
    "\n",
    "# create a quick interaction grid for display\n",
    "def proj_view(create_fn, template_name, proj=None, delete=False, create=False):\n",
    "    global df_proj\n",
    "    def refresh():\n",
    "        list_active = labeler.list()\n",
    "        if type(list_active) != list:  # error retrieving or empty (no projects!)\n",
    "            return pd.DataFrame()\n",
    "        df_proj = pd.DataFrame(labeler.list())\n",
    "        df_proj['id'] = df_proj['title'].map(str) + \": \" + df_proj['description'].map(str) \n",
    "        df_proj.set_index('id', inplace=True)\n",
    "        return df_proj\n",
    "    \n",
    "    if create:\n",
    "        title_new = f\"{template_name}_{len(df_proj)}\"\n",
    "        result = create_fn(title_new)\n",
    "        df_proj = refresh()\n",
    "        idx_new = df_proj[df_proj[\"title\"]==title_new].index[0]\n",
    "        btn_create.value = False\n",
    "        dropdown.options = list(df_proj.index)\n",
    "        dropdown.value = idx_new\n",
    "        return\n",
    "    if proj is None:\n",
    "        df_proj = refresh()\n",
    "        dropdown.options = list(df_proj.index)\n",
    "        return\n",
    "    if not proj in df_proj.index:\n",
    "        print(f\"Error: Couldn't find the specified project {proj} in results!\")\n",
    "        return\n",
    "    if delete:\n",
    "        result = labeler.delete()\n",
    "        df_proj = refresh()\n",
    "        btn_del.value = False\n",
    "        if len(df_proj):\n",
    "            dropdown.options = list(df_proj.index)\n",
    "            dropdown.value = df_proj.index[0]\n",
    "        else:\n",
    "            dropdown.options = []\n",
    "        return\n",
    "\n",
    "    # display(f\"Matched Tags (for class {class_name}): {df_performance.loc[run_name, 'token']}\")\n",
    "    proj_name = df_proj.loc[proj, \"title\"]\n",
    "    labeler.load(proj_name, create_if_missing=False)\n",
    "    \n",
    "    if labeler.valid:\n",
    "        df_tasks = pd.DataFrame(labeler.tasks_retrieve(0))\n",
    "        df_tasks_sub = df_tasks[['etag', 'data', 'labels']]\n",
    "        display(df_tasks_sub)\n",
    "    else:\n",
    "        print(f\"No tasks found for project {proj_name}\")\n",
    "\n",
    "df_proj = None  # start with empty obj\n",
    "\n",
    "dropdown = widgets.Dropdown(\n",
    "    options=[] if df_proj is None else list(df_proj.index),  # send run names\n",
    "    description='Project:', layout={'width': '90%'},\n",
    "    disabled=False,\n",
    ")\n",
    "btn_del = widgets.ToggleButton(description=\"Delete\")\n",
    "btn_create = widgets.ToggleButton(description=\"Create\")\n",
    "\n",
    "# create two rows ; \"partial\" allows us to sub in another function for create\n",
    "demo_fn = partial(proj_view, proj_create_ex, \"new_project\")\n",
    "out = widgets.interactive_output(demo_fn, {'proj':dropdown, 'delete':btn_del, 'create':btn_create})\n",
    "\n",
    "display(widgets.VBox([dropdown, widgets.HBox([btn_del, btn_create])]), out)\n",
    "demo_fn()"
   ]
  },
  {
   "cell_type": "markdown",
   "metadata": {},
   "source": [
    "### Creation Post-Mortem\n",
    "Not much to say here, but you should consider checking out the one or more projects and how they are rendered on the test version of LabelQuest: https://APP_SITE."
   ]
  },
  {
   "cell_type": "markdown",
   "metadata": {},
   "source": [
    "## Task Type Variance\n",
    "Demo code to add text, image, or video tasks.  Additionally, other capabilties like textual info and video playback speed will be explored.  Be warned that this cell will delete all projcts on the test instance so that you can more easily explore the various settings herein.\n"
   ]
  },
  {
   "cell_type": "code",
   "execution_count": 4,
   "metadata": {},
   "outputs": [
    {
     "name": "stdout",
     "output_type": "stream",
     "text": [
      "Deleted 0, sleeping 5\n",
      "The project 'media_check' was created, with 6 tasks of expected 6 tasks\n",
      "The project 'media_check' now exists, with 6 tasks \n",
      "Check out your new project with video, info, and variable speed playback: https://APP_SITE\n"
     ]
    }
   ],
   "source": [
    "import time\n",
    "\n",
    "def proj_task_media_create(proj_title=\"media_check\"):\n",
    "    # let's create a simple textual campaign\n",
    "    labeler.load(proj_title, create_if_missing=True)\n",
    "    if not labeler.valid:\n",
    "        raise Exception(\"\"\"\n",
    "        Uh oh, failed to create a new project.  Make sure your token is valid and check above errors.\"\"\")\n",
    "    list_classes = list(df_classes[\"class\"].unique())\n",
    "    list_media = list(df_flatten[\"asset\"].unique())\n",
    "    random.shuffle(list_media)\n",
    "    list_media = [f\"{WORKSHOP_BASE}/{x}\" for x in list_media[:6]]   # prefix URL\n",
    "    text_questions = \"Please label with one or more of these classes.\"\n",
    "    text_info = \"\"\"\n",
    "        <h2>Information</h2>\n",
    "        <h3>Not all information is created equally</h3>\n",
    "        <ul>\n",
    "        <li><strong>this item</strong> is first</li>\n",
    "        <li>that item is second</li>\n",
    "        </ul>\n",
    "        <small>That is all</small>\n",
    "    \"\"\"\n",
    "    num_inserted = 0\n",
    "    num_new = labeler.tasks_insert(list_classes, list_media[:2], is_exclusive=True, \n",
    "                    data_question=text_questions + \" <strong>THIS IS THE FIRST SET OF TASKS</strong>\")\n",
    "    num_inserted += num_new\n",
    "    num_new = labeler.tasks_insert(list_classes, list_media[2:4], is_exclusive=True, \n",
    "                    data_question=text_questions + \" <strong>THIS IS THE SECOND SET OF TASKS</strong>\",\n",
    "                    data_info=text_info)\n",
    "    num_inserted += num_new\n",
    "    num_new = labeler.tasks_insert(list_classes, list_media[4:], is_exclusive=False, \n",
    "                    data_question=text_questions + \" <strong>THIS IS THE THIRD SET OF TASKS</strong>\",\n",
    "                    media_playback=\"1.5\")\n",
    "    num_inserted += num_new\n",
    "    \n",
    "    if num_inserted == 0:  # hrm, it says no new inserts, let's check for a prior project\n",
    "        list_tasks = labeler.tasks_retrieve(0)   # -1=label only, 0=all, 1=unlabeled\n",
    "        print(f\"The project '{proj_title}' already exists, with {len(list_tasks)} tasks of expected {len(list_media)} tasks\")\n",
    "        assert len(list_tasks) == len(list_media)\n",
    "    else:\n",
    "        print(f\"The project '{proj_title}' was created, with {num_inserted} tasks of expected {len(list_media)} tasks\")\n",
    "        assert num_inserted == len(list_media)\n",
    "        list_tasks = labeler.tasks_retrieve(0)   # -1=label only, 0=all, 1=unlabeled\n",
    "        print(f\"The project '{proj_title}' now exists, with {len(list_tasks)} tasks \")\n",
    "    print(f\"Check out your new project with video, info, and variable speed playback: {LQ_ROOT_URL}\")\n",
    "\n",
    "def delete_all(sleep_secs=5):\n",
    "    list_found = labeler.list()\n",
    "    if type(list_found) != list:\n",
    "        list_found = []\n",
    "    for i in range(len(list_found)):\n",
    "        labeler.load(list_found[i]['title'])\n",
    "        result = labeler.delete()\n",
    "    print(f\"Deleted {len(list_found)}, sleeping {sleep_secs}\")\n",
    "    time.sleep(sleep_secs)  # because of lazy update on backend, neeed ssleep some\n",
    "    \n",
    "# delets all project\n",
    "delete_all()\n",
    "\n",
    "# create a new project\n",
    "proj_task_media_create()\n"
   ]
  },
  {
   "cell_type": "markdown",
   "metadata": {},
   "source": [
    "# Interface Exploration"
   ]
  },
  {
   "cell_type": "markdown",
   "metadata": {},
   "source": [
    "## Reranking of Tasks\n",
    "How do you rerank or prioritize the tasks with label data?\n",
    "\n",
    "In our user survey, the majority indicated they'd be willing to provide a few labels to a service for better product recommendations, so let's test that promise and its efficacy.  However, while the survey indicates willingness to add labels, those labels should be as relevant as possible.\n",
    "\n",
    "![willingness to label](assets/labelquest_agreement.jpg)"
   ]
  },
  {
   "cell_type": "markdown",
   "metadata": {},
   "source": [
    "## Reranking items\n",
    "In this example we create a temporary project and rerank a few of the items.  This demonstrates how to dynamically reorder samples within a campaign."
   ]
  },
  {
   "cell_type": "code",
   "execution_count": 30,
   "metadata": {},
   "outputs": [
    {
     "name": "stdout",
     "output_type": "stream",
     "text": [
      "Deleted 0, sleeping 10\n",
      "The project 'priority' was created, with 6 tasks of expected 6 tasks\n",
      "The project 'priority' now exists, with 42 tasks \n",
      "Check out your new project with video, info, and variable speed playback: https://APP_SITE\n"
     ]
    }
   ],
   "source": [
    "    \n",
    "# delete all projects\n",
    "delete_all(10)\n",
    "\n",
    "# create a new project having \"FIRST\" \"SECOND\" \"THIRD\" in title\n",
    "project_name = \"priority\"\n",
    "proj_task_media_create(project_name)\n",
    "\n",
    "# now query for those tasks\n",
    "# force items with \"FIRST\" to be first, then \"SECOND\", then third\n",
    "df_tasks = pd.DataFrame(labeler.tasks_retrieve(0))\n",
    "\n",
    "# if False:\n",
    "#     dict_rescore = {}\n",
    "#     for i,r in df_tasks.iterrows():\n",
    "#         qtext = r['question'].lower()\n",
    "#         if \"first\" in r[k].lower():\n",
    "#             dict_rescore[r[k]] = 0.99\n",
    "#         elif \"second\" in r[k].lower():\n",
    "#             dict_rescore[r[k]] = 0.60\n",
    "\n",
    "#     num_updates = labeler.tasks_rescore(dict_scores)   # send request\n",
    "\n",
    "#     print(f\"Updated {num_updates} of {len(df_tasks)}...\")\n",
    "# else:\n",
    "#     print(\"Weig ghost in the machine is preventing normal operation\")\n",
    "\n"
   ]
  },
  {
   "cell_type": "markdown",
   "metadata": {},
   "source": [
    "## A few Labels\n",
    "What does it look like when someone added labels?"
   ]
  },
  {
   "cell_type": "code",
   "execution_count": null,
   "metadata": {},
   "outputs": [],
   "source": [
    "import ipywidgets as widgets\n",
    "from ipywidgets import interact, interactive, fixed, interact_manual\n",
    "import matplotlib.pyplot as plt\n",
    "import pandas as pd\n",
    "from IPython.display import display\n",
    "import ipywidgets as widgets\n",
    "from functools import partial\n",
    "\n",
    "campaign = lq.project.Project(jwt_token=LQ_JWT, url=LQ_ROOT_URL, ssl_verify=False)\n",
    "campaign_df = pd.DataFrame(campaign.retrieve_data(project_id='11de6843906842beb50d228ed9107914'))\n",
    "labels = campaign_df[campaign_df.id=='5f6b283a2525a124ccf2922e']['labels']\n",
    "print(labels)"
   ]
  },
  {
   "cell_type": "code",
   "execution_count": null,
   "metadata": {},
   "outputs": [],
   "source": [
    "def get_votes_by_count(labels, count=None):\n",
    "    if count is None:\n",
    "        count = len(labels.at[0])\n",
    "    options = []\n",
    "    for label in labels.at[0][0:count]:\n",
    "        for selection in label['selection']:\n",
    "            options.append(selection['selected'])\n",
    "    return options\n",
    "\n",
    "out = widgets.IntSlider(\n",
    "    value=1,\n",
    "    step=1,\n",
    "    min=1,\n",
    "    max=len(labels.at[0]),\n",
    "    description='Votes',\n",
    "    disabled=False,\n",
    "    continuous_update=False,\n",
    "    orientation='horizontal',\n",
    "    readout=True,\n",
    "    readout_format='d',\n",
    ")\n",
    "def update_barchart(votes):\n",
    "    return pd.Series(get_votes_by_count(labels,votes)).value_counts().sort_index().plot(kind='bar')\n",
    "\n",
    "interactive(update_barchart, votes=out)"
   ]
  },
  {
   "cell_type": "markdown",
   "metadata": {},
   "source": [
    "# End of Labeling Material\n",
    "\n",
    "Ready to label the world?  Just remember that out-of-context, your friends and family may not appreciate you giving them a `happy` or `sad` label, and much less so when you try to click a submit button afterwards! With the familiarity to a labeling system underway, we have the skills to return to task for content labeling.\n",
    "\n",
    "The next notebook, [notebook D](D_active_labels.ipynb) *(that link may not work)* returns to the contextual ads problem and applies what was learned here to the labeling task that everyone contributed to (hopefully!) before the workshop.\n"
   ]
  },
  {
   "cell_type": "code",
   "execution_count": null,
   "metadata": {},
   "outputs": [],
   "source": []
  }
 ],
 "metadata": {
  "kernelspec": {
   "display_name": "Python 3",
   "language": "python",
   "name": "python3"
  },
  "language_info": {
   "codemirror_mode": {
    "name": "ipython",
    "version": 3
   },
   "file_extension": ".py",
   "mimetype": "text/x-python",
   "name": "python",
   "nbconvert_exporter": "python",
   "pygments_lexer": "ipython3",
   "version": "3.6.7"
  }
 },
 "nbformat": 4,
 "nbformat_minor": 2
}
