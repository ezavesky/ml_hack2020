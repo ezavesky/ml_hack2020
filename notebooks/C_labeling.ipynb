{
 "cells": [
  {
   "cell_type": "markdown",
   "metadata": {},
   "source": [
    "![Machine Learning Workshop: Content Insights 2020](assets/mlci_banner.jpg)\n",
    "\n",
    "# Machine Learning Workshop: Content Insights 2020\n",
    "\n",
    "Welcome to the workshop notebooks!  These notebooks are designed to give you a walk through the steps of creating a model, refining it with user labels, and testing it on content.  You can access the main [workshop forum page](https://INFO_SITE/forums/html/forum?id=241a0b77-7aa6-4fef-9f25-5ea351825725&ps=25), the [workshop files repo](https://INFO_SITE/communities/service/html/communityview?communityUuid=fb400868-b17c-44d8-8b63-b445d26a0be4#fullpageWidgetId=W403a0d6f86de_45aa_8b67_c52cf90fca16&folder=d8138bef-9182-4bdc-8b12-3c88158a219c), or the [symposium home page](https://software.web.DOMAIN) for additional help.\n",
    "\n",
    "The notebooks are divided into five core components: (A) setup & data, (B) model exploration, (C) labeling, (D) active labeling, (E) and deployment.  You are currently viewing the *setup & data* workbook.\n",
    "\n",
    "Start your LabelQuest journey by clicking here:\n",
    "\n",
    "## Log In: https://APP_SITE\n",
    "\n",
    "## Get your Token : https://APP_SITE/api/lq/v1/uam/auth"
   ]
  },
  {
   "cell_type": "code",
   "execution_count": 1,
   "metadata": {},
   "outputs": [],
   "source": [
    "# constants for running the workshop; we'll repeat these in the top line of each workbook.\n",
    "#   why repeat them? the backup routine only serializes .ipynb files, so others will need \n",
    "#   to be downloaded again if your compute instance restarts (a small price to pay, right?)\n",
    "\n",
    "WORKSHOP_BASE = \"https://vmlr-workshop.STORAGE\"\n",
    "# WORKSHOP_BASE = \"http://content.research.DOMAIN/projects/mlci_2020\"\n",
    "AGG_METADATA = \"models/agg_metadata.pkl.gz\"            # custom file for merged metadata\n",
    "\n",
    "# you need to provide this (copy the string from https://APP_SITE/api/lq/v1/uam/auth)\n",
    "LQ_JWT = \"\"  \n",
    "LQ_ROOT_URL = \"https://APP_SITE\"\n",
    "LQ_ROOT_SSL_VERIFY = False\n",
    "\n",
    "IMDB5000_FEAT = \"packages/movie_metadata.csv\"   # public dataset for movies"
   ]
  },
  {
   "cell_type": "markdown",
   "metadata": {},
   "source": [
    "# Notebook C: Self-Service Labeling\n",
    "\n",
    "Collecting labels can be an arduous, expensive task.  That's why we're turning to an internal platform that simplifies the process with a programmatic API and democrtizes the labelers to some or all of your fellow employees.  In this notebook, we will focus on creating, exploring, and tuning a labeling campaign.  The task herein takes a momentary break away from our contextual advertising focus, but we'll use skill here to continue that direction in the next notebook.\n",
    "\n",
    "![LabelQuest](assets/labelquest_banner.jpg)\n",
    "\n",
    "[LabelQuest](https://lq.web.DOMAIN) is an AT&T labeling platform that allows task creation through programmatic API and broad label solicitation across the enterprise.  While due dilligence is still required to avoid senstive information and content, the tracking of labels and compliance-approved usage of the software on desktops, laptops, and tablets is already there.  Additionally, the gamification of the labeling task, manifesting in variance of tasks, a simple but intutitive UX, and the awarding of points and badges may keep spirits up if the number of tasks starts to build up."
   ]
  },
  {
   "cell_type": "markdown",
   "metadata": {},
   "source": [
    "# Pythonic API\n"
   ]
  },
  {
   "cell_type": "code",
   "execution_count": 2,
   "metadata": {},
   "outputs": [],
   "source": [
    "import lq\n",
    "from lq.content_label import ContentLabeler\n",
    "\n",
    "if not LQ_JWT:\n",
    "    LQ_JWT = ContentLabeler.jwt_load(\"auth.json\")\n",
    "if not LQ_JWT:\n",
    "    raise Exception(\"\"\"\n",
    "        No token detected (in LQ_JWT), please authenticate and get your JWT token.\n",
    "        1. Log into the test instance of LQ - https://APP_SITE/\n",
    "        2a. Get your LQ token from here - https://APP_SITE/api/lq/v1/uam/auth\n",
    "        2b. OR Save the produced JSON file to the same directory as this script (as auth.json)\n",
    "    \"\"\")"
   ]
  },
  {
   "cell_type": "markdown",
   "metadata": {},
   "source": [
    "## Project Creation\n",
    "This cell demonstrates basic functions for listing, retrieving and creating new projects.  To avoid any confusion, the code discussions will use the term `project` instead of `campaign` but otherwise they are meant to be interchangable in this workshop.\n",
    "\n",
    "The sample below demos these functions...\n",
    "* `ContentLabeler.list()` - queries active projects with \n",
    "* `ContentLabeler.tasks_retrieve()` - query the tasks under a single project with \n",
    "* `ContentLabeler.load()` - create or load an existing project\n",
    "* `ContentLabeler.delete()` - delete a project that has been loaded\n"
   ]
  },
  {
   "cell_type": "code",
   "execution_count": 5,
   "metadata": {
    "scrolled": false
   },
   "outputs": [
    {
     "data": {
      "application/vnd.jupyter.widget-view+json": {
       "model_id": "a94e9c821e584560ad64098cbe7fc0e1",
       "version_major": 2,
       "version_minor": 0
      },
      "text/plain": [
       "VBox(children=(Dropdown(description='Project:', layout=Layout(width='90%'), options=(), value=None), HBox(chil…"
      ]
     },
     "metadata": {},
     "output_type": "display_data"
    },
    {
     "data": {
      "application/vnd.jupyter.widget-view+json": {
       "model_id": "515be76dada44f2b80fca214ce2e8601",
       "version_major": 2,
       "version_minor": 0
      },
      "text/plain": [
       "Output()"
      ]
     },
     "metadata": {},
     "output_type": "display_data"
    },
    {
     "name": "stdout",
     "output_type": "stream",
     "text": [
      "LIST {'msg': 'No active projects'}\n"
     ]
    },
    {
     "ename": "ValueError",
     "evalue": "If using all scalar values, you must pass an index",
     "output_type": "error",
     "traceback": [
      "\u001b[0;31m---------------------------------------------------------------------------\u001b[0m",
      "\u001b[0;31mValueError\u001b[0m                                Traceback (most recent call last)",
      "\u001b[0;32m<ipython-input-5-264108ceaadb>\u001b[0m in \u001b[0;36m<module>\u001b[0;34m\u001b[0m\n\u001b[1;32m     91\u001b[0m \u001b[0;34m\u001b[0m\u001b[0m\n\u001b[1;32m     92\u001b[0m \u001b[0mdisplay\u001b[0m\u001b[0;34m(\u001b[0m\u001b[0mwidgets\u001b[0m\u001b[0;34m.\u001b[0m\u001b[0mVBox\u001b[0m\u001b[0;34m(\u001b[0m\u001b[0;34m[\u001b[0m\u001b[0mdropdown\u001b[0m\u001b[0;34m,\u001b[0m \u001b[0mwidgets\u001b[0m\u001b[0;34m.\u001b[0m\u001b[0mHBox\u001b[0m\u001b[0;34m(\u001b[0m\u001b[0;34m[\u001b[0m\u001b[0mbtn_del\u001b[0m\u001b[0;34m,\u001b[0m \u001b[0mbtn_create\u001b[0m\u001b[0;34m]\u001b[0m\u001b[0;34m)\u001b[0m\u001b[0;34m]\u001b[0m\u001b[0;34m)\u001b[0m\u001b[0;34m,\u001b[0m \u001b[0mout\u001b[0m\u001b[0;34m)\u001b[0m\u001b[0;34m\u001b[0m\u001b[0;34m\u001b[0m\u001b[0m\n\u001b[0;32m---> 93\u001b[0;31m \u001b[0mdemo_fn\u001b[0m\u001b[0;34m(\u001b[0m\u001b[0;34m)\u001b[0m\u001b[0;34m\u001b[0m\u001b[0;34m\u001b[0m\u001b[0m\n\u001b[0m",
      "\u001b[0;32m<ipython-input-5-264108ceaadb>\u001b[0m in \u001b[0;36mproj_view\u001b[0;34m(create_fn, template_name, proj, delete, create)\u001b[0m\n\u001b[1;32m     42\u001b[0m \u001b[0;34m\u001b[0m\u001b[0m\n\u001b[1;32m     43\u001b[0m     \u001b[0;32mif\u001b[0m \u001b[0mproj\u001b[0m \u001b[0;32mis\u001b[0m \u001b[0;32mNone\u001b[0m\u001b[0;34m:\u001b[0m\u001b[0;34m\u001b[0m\u001b[0;34m\u001b[0m\u001b[0m\n\u001b[0;32m---> 44\u001b[0;31m         \u001b[0mdf_proj\u001b[0m \u001b[0;34m=\u001b[0m \u001b[0mrefresh\u001b[0m\u001b[0;34m(\u001b[0m\u001b[0;34m)\u001b[0m\u001b[0;34m\u001b[0m\u001b[0;34m\u001b[0m\u001b[0m\n\u001b[0m\u001b[1;32m     45\u001b[0m         \u001b[0mdropdown\u001b[0m\u001b[0;34m.\u001b[0m\u001b[0moptions\u001b[0m \u001b[0;34m=\u001b[0m \u001b[0mlist\u001b[0m\u001b[0;34m(\u001b[0m\u001b[0mdf_proj\u001b[0m\u001b[0;34m.\u001b[0m\u001b[0mindex\u001b[0m\u001b[0;34m)\u001b[0m\u001b[0;34m\u001b[0m\u001b[0;34m\u001b[0m\u001b[0m\n\u001b[1;32m     46\u001b[0m         \u001b[0;32mreturn\u001b[0m\u001b[0;34m\u001b[0m\u001b[0;34m\u001b[0m\u001b[0m\n",
      "\u001b[0;32m<ipython-input-5-264108ceaadb>\u001b[0m in \u001b[0;36mrefresh\u001b[0;34m()\u001b[0m\n\u001b[1;32m     34\u001b[0m     \u001b[0;32mdef\u001b[0m \u001b[0mrefresh\u001b[0m\u001b[0;34m(\u001b[0m\u001b[0;34m)\u001b[0m\u001b[0;34m:\u001b[0m\u001b[0;34m\u001b[0m\u001b[0;34m\u001b[0m\u001b[0m\n\u001b[1;32m     35\u001b[0m         \u001b[0mprint\u001b[0m\u001b[0;34m(\u001b[0m\u001b[0;34m\"LIST\"\u001b[0m\u001b[0;34m,\u001b[0m \u001b[0mlabeler\u001b[0m\u001b[0;34m.\u001b[0m\u001b[0mlist\u001b[0m\u001b[0;34m(\u001b[0m\u001b[0;34m)\u001b[0m\u001b[0;34m)\u001b[0m\u001b[0;34m\u001b[0m\u001b[0;34m\u001b[0m\u001b[0m\n\u001b[0;32m---> 36\u001b[0;31m         \u001b[0mdf_proj\u001b[0m \u001b[0;34m=\u001b[0m \u001b[0mpd\u001b[0m\u001b[0;34m.\u001b[0m\u001b[0mDataFrame\u001b[0m\u001b[0;34m(\u001b[0m\u001b[0mlabeler\u001b[0m\u001b[0;34m.\u001b[0m\u001b[0mlist\u001b[0m\u001b[0;34m(\u001b[0m\u001b[0;34m)\u001b[0m\u001b[0;34m)\u001b[0m\u001b[0;34m\u001b[0m\u001b[0;34m\u001b[0m\u001b[0m\n\u001b[0m\u001b[1;32m     37\u001b[0m         \u001b[0mdf_proj\u001b[0m\u001b[0;34m[\u001b[0m\u001b[0;34m'id'\u001b[0m\u001b[0;34m]\u001b[0m \u001b[0;34m=\u001b[0m \u001b[0mdf_proj\u001b[0m\u001b[0;34m[\u001b[0m\u001b[0;34m'title'\u001b[0m\u001b[0;34m]\u001b[0m\u001b[0;34m.\u001b[0m\u001b[0mmap\u001b[0m\u001b[0;34m(\u001b[0m\u001b[0mstr\u001b[0m\u001b[0;34m)\u001b[0m \u001b[0;34m+\u001b[0m \u001b[0;34m\": \"\u001b[0m \u001b[0;34m+\u001b[0m \u001b[0mdf_proj\u001b[0m\u001b[0;34m[\u001b[0m\u001b[0;34m'description'\u001b[0m\u001b[0;34m]\u001b[0m\u001b[0;34m.\u001b[0m\u001b[0mmap\u001b[0m\u001b[0;34m(\u001b[0m\u001b[0mstr\u001b[0m\u001b[0;34m)\u001b[0m\u001b[0;34m\u001b[0m\u001b[0;34m\u001b[0m\u001b[0m\n\u001b[1;32m     38\u001b[0m         \u001b[0mdf_proj\u001b[0m\u001b[0;34m.\u001b[0m\u001b[0mset_index\u001b[0m\u001b[0;34m(\u001b[0m\u001b[0;34m'id'\u001b[0m\u001b[0;34m,\u001b[0m \u001b[0minplace\u001b[0m\u001b[0;34m=\u001b[0m\u001b[0;32mTrue\u001b[0m\u001b[0;34m)\u001b[0m\u001b[0;34m\u001b[0m\u001b[0;34m\u001b[0m\u001b[0m\n",
      "\u001b[0;32m~/anaconda/envs/cognita36/lib/python3.6/site-packages/pandas/core/frame.py\u001b[0m in \u001b[0;36m__init__\u001b[0;34m(self, data, index, columns, dtype, copy)\u001b[0m\n\u001b[1;32m    466\u001b[0m \u001b[0;34m\u001b[0m\u001b[0m\n\u001b[1;32m    467\u001b[0m         \u001b[0;32melif\u001b[0m \u001b[0misinstance\u001b[0m\u001b[0;34m(\u001b[0m\u001b[0mdata\u001b[0m\u001b[0;34m,\u001b[0m \u001b[0mdict\u001b[0m\u001b[0;34m)\u001b[0m\u001b[0;34m:\u001b[0m\u001b[0;34m\u001b[0m\u001b[0;34m\u001b[0m\u001b[0m\n\u001b[0;32m--> 468\u001b[0;31m             \u001b[0mmgr\u001b[0m \u001b[0;34m=\u001b[0m \u001b[0minit_dict\u001b[0m\u001b[0;34m(\u001b[0m\u001b[0mdata\u001b[0m\u001b[0;34m,\u001b[0m \u001b[0mindex\u001b[0m\u001b[0;34m,\u001b[0m \u001b[0mcolumns\u001b[0m\u001b[0;34m,\u001b[0m \u001b[0mdtype\u001b[0m\u001b[0;34m=\u001b[0m\u001b[0mdtype\u001b[0m\u001b[0;34m)\u001b[0m\u001b[0;34m\u001b[0m\u001b[0;34m\u001b[0m\u001b[0m\n\u001b[0m\u001b[1;32m    469\u001b[0m         \u001b[0;32melif\u001b[0m \u001b[0misinstance\u001b[0m\u001b[0;34m(\u001b[0m\u001b[0mdata\u001b[0m\u001b[0;34m,\u001b[0m \u001b[0mma\u001b[0m\u001b[0;34m.\u001b[0m\u001b[0mMaskedArray\u001b[0m\u001b[0;34m)\u001b[0m\u001b[0;34m:\u001b[0m\u001b[0;34m\u001b[0m\u001b[0;34m\u001b[0m\u001b[0m\n\u001b[1;32m    470\u001b[0m             \u001b[0;32mimport\u001b[0m \u001b[0mnumpy\u001b[0m\u001b[0;34m.\u001b[0m\u001b[0mma\u001b[0m\u001b[0;34m.\u001b[0m\u001b[0mmrecords\u001b[0m \u001b[0;32mas\u001b[0m \u001b[0mmrecords\u001b[0m\u001b[0;34m\u001b[0m\u001b[0;34m\u001b[0m\u001b[0m\n",
      "\u001b[0;32m~/anaconda/envs/cognita36/lib/python3.6/site-packages/pandas/core/internals/construction.py\u001b[0m in \u001b[0;36minit_dict\u001b[0;34m(data, index, columns, dtype)\u001b[0m\n\u001b[1;32m    281\u001b[0m             \u001b[0marr\u001b[0m \u001b[0;32mif\u001b[0m \u001b[0;32mnot\u001b[0m \u001b[0mis_datetime64tz_dtype\u001b[0m\u001b[0;34m(\u001b[0m\u001b[0marr\u001b[0m\u001b[0;34m)\u001b[0m \u001b[0;32melse\u001b[0m \u001b[0marr\u001b[0m\u001b[0;34m.\u001b[0m\u001b[0mcopy\u001b[0m\u001b[0;34m(\u001b[0m\u001b[0;34m)\u001b[0m \u001b[0;32mfor\u001b[0m \u001b[0marr\u001b[0m \u001b[0;32min\u001b[0m \u001b[0marrays\u001b[0m\u001b[0;34m\u001b[0m\u001b[0;34m\u001b[0m\u001b[0m\n\u001b[1;32m    282\u001b[0m         ]\n\u001b[0;32m--> 283\u001b[0;31m     \u001b[0;32mreturn\u001b[0m \u001b[0marrays_to_mgr\u001b[0m\u001b[0;34m(\u001b[0m\u001b[0marrays\u001b[0m\u001b[0;34m,\u001b[0m \u001b[0mdata_names\u001b[0m\u001b[0;34m,\u001b[0m \u001b[0mindex\u001b[0m\u001b[0;34m,\u001b[0m \u001b[0mcolumns\u001b[0m\u001b[0;34m,\u001b[0m \u001b[0mdtype\u001b[0m\u001b[0;34m=\u001b[0m\u001b[0mdtype\u001b[0m\u001b[0;34m)\u001b[0m\u001b[0;34m\u001b[0m\u001b[0;34m\u001b[0m\u001b[0m\n\u001b[0m\u001b[1;32m    284\u001b[0m \u001b[0;34m\u001b[0m\u001b[0m\n\u001b[1;32m    285\u001b[0m \u001b[0;34m\u001b[0m\u001b[0m\n",
      "\u001b[0;32m~/anaconda/envs/cognita36/lib/python3.6/site-packages/pandas/core/internals/construction.py\u001b[0m in \u001b[0;36marrays_to_mgr\u001b[0;34m(arrays, arr_names, index, columns, dtype, verify_integrity)\u001b[0m\n\u001b[1;32m     76\u001b[0m         \u001b[0;31m# figure out the index, if necessary\u001b[0m\u001b[0;34m\u001b[0m\u001b[0;34m\u001b[0m\u001b[0;34m\u001b[0m\u001b[0m\n\u001b[1;32m     77\u001b[0m         \u001b[0;32mif\u001b[0m \u001b[0mindex\u001b[0m \u001b[0;32mis\u001b[0m \u001b[0;32mNone\u001b[0m\u001b[0;34m:\u001b[0m\u001b[0;34m\u001b[0m\u001b[0;34m\u001b[0m\u001b[0m\n\u001b[0;32m---> 78\u001b[0;31m             \u001b[0mindex\u001b[0m \u001b[0;34m=\u001b[0m \u001b[0mextract_index\u001b[0m\u001b[0;34m(\u001b[0m\u001b[0marrays\u001b[0m\u001b[0;34m)\u001b[0m\u001b[0;34m\u001b[0m\u001b[0;34m\u001b[0m\u001b[0m\n\u001b[0m\u001b[1;32m     79\u001b[0m         \u001b[0;32melse\u001b[0m\u001b[0;34m:\u001b[0m\u001b[0;34m\u001b[0m\u001b[0;34m\u001b[0m\u001b[0m\n\u001b[1;32m     80\u001b[0m             \u001b[0mindex\u001b[0m \u001b[0;34m=\u001b[0m \u001b[0mensure_index\u001b[0m\u001b[0;34m(\u001b[0m\u001b[0mindex\u001b[0m\u001b[0;34m)\u001b[0m\u001b[0;34m\u001b[0m\u001b[0;34m\u001b[0m\u001b[0m\n",
      "\u001b[0;32m~/anaconda/envs/cognita36/lib/python3.6/site-packages/pandas/core/internals/construction.py\u001b[0m in \u001b[0;36mextract_index\u001b[0;34m(data)\u001b[0m\n\u001b[1;32m    385\u001b[0m \u001b[0;34m\u001b[0m\u001b[0m\n\u001b[1;32m    386\u001b[0m         \u001b[0;32mif\u001b[0m \u001b[0;32mnot\u001b[0m \u001b[0mindexes\u001b[0m \u001b[0;32mand\u001b[0m \u001b[0;32mnot\u001b[0m \u001b[0mraw_lengths\u001b[0m\u001b[0;34m:\u001b[0m\u001b[0;34m\u001b[0m\u001b[0;34m\u001b[0m\u001b[0m\n\u001b[0;32m--> 387\u001b[0;31m             \u001b[0;32mraise\u001b[0m \u001b[0mValueError\u001b[0m\u001b[0;34m(\u001b[0m\u001b[0;34m\"If using all scalar values, you must pass an index\"\u001b[0m\u001b[0;34m)\u001b[0m\u001b[0;34m\u001b[0m\u001b[0;34m\u001b[0m\u001b[0m\n\u001b[0m\u001b[1;32m    388\u001b[0m \u001b[0;34m\u001b[0m\u001b[0m\n\u001b[1;32m    389\u001b[0m         \u001b[0;32mif\u001b[0m \u001b[0mhave_series\u001b[0m\u001b[0;34m:\u001b[0m\u001b[0;34m\u001b[0m\u001b[0;34m\u001b[0m\u001b[0m\n",
      "\u001b[0;31mValueError\u001b[0m: If using all scalar values, you must pass an index"
     ]
    }
   ],
   "source": [
    "import pandas as pd\n",
    "from IPython.display import display\n",
    "import ipywidgets as widgets\n",
    "from functools import partial\n",
    "\n",
    "pd.set_option('display.max_colwidth',1000)\n",
    "\n",
    "# first, create a handy content labeling instance\n",
    "labeler = ContentLabeler(LQ_JWT, LQ_ROOT_URL, verbose=False, ssl_verify=LQ_ROOT_SSL_VERIFY)\n",
    "\n",
    "def proj_create_ex(proj_title=\"emotion_check\"):\n",
    "    # let's create a simple textual campaign\n",
    "    labeler.load(proj_title, create_if_missing=True)\n",
    "    if not labeler.valid:\n",
    "        raise Exception(\"\"\"\n",
    "        Uh oh, failed to create a new project.  Make sure your token is valid and check above errors.\"\"\")\n",
    "    list_classes = [\"happy\", \"sad\", \"neutral\"]\n",
    "    list_media = [\"A juicy apple\", \"A long-time friend\", \"In-laws\", \"Tax day\"]\n",
    "    text_questions = \"Please select your primary emotion when thinking of these items\"\n",
    "    num_inserted = labeler.tasks_insert(list_classes, list_media, is_exclusive=True, data_question=text_questions)\n",
    "    if num_inserted == 0:  # hrm, it says no new inserts, let's check for a prior project\n",
    "        list_tasks = labeler.tasks_retrieve(0)   # -1=label only, 0=all, 1=unlabeled\n",
    "        print(f\"The project '{proj_title}' already exists, with {len(list_tasks)} tasks of expected {len(list_media)} tasks\")\n",
    "        assert len(list_tasks) == len(list_media)\n",
    "    else:\n",
    "        print(f\"The project '{proj_title}' was created, with {num_inserted} tasks of expected {len(list_media)} tasks\")\n",
    "        assert num_inserted == len(list_media)\n",
    "    print(f\"That's it for basic project creation, head to LQ to check it out: {LQ_ROOT_URL}\")\n",
    "\n",
    "\n",
    "# create a quick interaction grid for display\n",
    "def proj_view(create_fn, template_name, proj=None, delete=False, create=False):\n",
    "    global df_proj\n",
    "    def refresh():\n",
    "        print(\"LIST\", labeler.list())\n",
    "        df_proj = pd.DataFrame(labeler.list())\n",
    "        df_proj['id'] = df_proj['title'].map(str) + \": \" + df_proj['description'].map(str) \n",
    "        df_proj.set_index('id', inplace=True)\n",
    "        return df_proj\n",
    "    \n",
    "    # TODO: test with projects\n",
    "    \n",
    "    if proj is None:\n",
    "        df_proj = refresh()\n",
    "        dropdown.options = list(df_proj.index)\n",
    "        return\n",
    "    if not proj in df_proj.index:\n",
    "        print(f\"Error: Couldn't find the specified project {proj} in results!\")\n",
    "        return\n",
    "    if delete:\n",
    "        result = labeler.delete()\n",
    "        df_proj = refresh()\n",
    "        btn_del.value = False\n",
    "        dropdown.options = list(df_proj.index)\n",
    "        dropdown.value = df_proj.index[0]\n",
    "        return\n",
    "    if create:\n",
    "        title_new = f\"{template_name}_{len(df_proj)}\"\n",
    "        result = create_fn(title_new)\n",
    "        df_proj = refresh()\n",
    "        idx_new = df_proj[df_proj[\"title\"]==title_new].index[0]\n",
    "        btn_create.value = False\n",
    "        dropdown.options = list(df_proj.index)\n",
    "        dropdown.value = idx_new\n",
    "        return\n",
    "\n",
    "    # display(f\"Matched Tags (for class {class_name}): {df_performance.loc[run_name, 'token']}\")\n",
    "    proj_name = df_proj.loc[proj, \"title\"]\n",
    "    labeler.load(proj_name, create_if_missing=False)\n",
    "    \n",
    "    if labeler.valid:\n",
    "        df_tasks = pd.DataFrame(labeler.tasks_retrieve(0))\n",
    "        df_tasks_sub = df_tasks[['etag', 'data', 'labels']]\n",
    "        display(df_tasks_sub)\n",
    "    else:\n",
    "        print(f\"No tasks found for project {proj_name}\")\n",
    "\n",
    "df_proj = None  # start with empty obj\n",
    "\n",
    "dropdown = widgets.Dropdown(\n",
    "    options=[] if df_proj is None else list(df_proj.index),  # send run names\n",
    "    description='Project:', layout={'width': '90%'},\n",
    "    disabled=False,\n",
    ")\n",
    "btn_del = widgets.ToggleButton(description=\"Delete\")\n",
    "btn_create = widgets.ToggleButton(description=\"Create\")\n",
    "\n",
    "# create two rows ; \"partial\" allows us to sub in another function for create\n",
    "demo_fn = partial(proj_view, proj_create_ex, \"new_project\")\n",
    "out = widgets.interactive_output(demo_fn, {'proj':dropdown, 'delete':btn_del, 'create':btn_create})\n",
    "\n",
    "display(widgets.VBox([dropdown, widgets.HBox([btn_del, btn_create])]), out)\n",
    "demo_fn()"
   ]
  },
  {
   "cell_type": "markdown",
   "metadata": {},
   "source": [
    "## Task Creation\n",
    "This cell demonstrates how to create a project out of assets that are found in a directory.  To demonstrate, the code will alternate between text-based tasks and image-based ones.\n",
    "\n",
    "The following methods are demonstrated here.\n",
    "* (media collection + determination)\n",
    "* (extra information about the media)"
   ]
  },
  {
   "cell_type": "code",
   "execution_count": null,
   "metadata": {},
   "outputs": [],
   "source": [
    "\n",
    "def proj_task_find_ex(proj_title=\"emotion_check\"):\n",
    "    # let's create a simple textual campaign\n",
    "    print(\"IN TASK FIND CREATE\")\n",
    "    labeler.load(proj_title, create_if_missing=True)\n",
    "    if not labeler.valid:\n",
    "        raise Exception(\"\"\"\n",
    "        Uh oh, failed to create a new project.  Make sure your token is valid and check above errors.\"\"\")\n",
    "    list_classes = [\"happy\", \"sad\", \"neutral\"]\n",
    "    list_media = [\"New task, maybe with HTML\"]\n",
    "    text_questions = \"Please select your primary emotion when thinking of these items\"\n",
    "    num_inserted = labeler.tasks_insert(list_classes, list_media, is_exclusive=True, data_question=text_questions)\n",
    "    if num_inserted == 0:  # hrm, it says no new inserts, let's check for a prior project\n",
    "        list_tasks = labeler.tasks_retrieve(0)   # -1=label only, 0=all, 1=unlabeled\n",
    "        print(f\"The project '{proj_title}' already exists, with {len(list_tasks)} tasks of expected {len(list_media)} tasks\")\n",
    "        assert len(list_tasks) == len(list_media)\n",
    "    else:\n",
    "        print(f\"The project '{proj_title}' was created, with {num_inserted} tasks of expected {len(list_media)} tasks\")\n",
    "        assert num_inserted == len(list_media)\n",
    "    print(f\"That's it for basic project creation, head to LQ to check it out: {LQ_ROOT_URL}\")\n",
    "\n",
    "\n",
    "# create two rows ; \"partial\" allows us to sub in another function for create\n",
    "\n",
    "demo2_fn = partial(proj_view, proj_task_find_ex, \"discovered_tasks\")\n",
    "out = widgets.interactive_output(demo2_fn, {'proj':dropdown, 'delete':btn_del, 'create':btn_create})\n",
    "\n",
    "display(widgets.VBox([dropdown, widgets.HBox([btn_del, btn_create])]), out)\n",
    "demo2_fn()\n"
   ]
  },
  {
   "cell_type": "markdown",
   "metadata": {},
   "source": [
    "## Task Type Variance\n",
    "Demo code to add text, image, or video tasks"
   ]
  },
  {
   "cell_type": "markdown",
   "metadata": {},
   "source": [
    "# Interface Exploration"
   ]
  },
  {
   "cell_type": "markdown",
   "metadata": {},
   "source": [
    "## Reranking of Tasks\n",
    "How do you rerank or prioritize the tasks with label data?\n",
    "\n",
    "In our user survey, the majority indicated they'd be willing to provide a few labels to a service for better product recommendations, so let's test that promise and its efficacy.  However, while the survey indicates willingness to add labels, those labels should be as relevant as possible.\n",
    "\n",
    "![willingness to label](assets/labelquest_agreement.jpg)"
   ]
  },
  {
   "cell_type": "markdown",
   "metadata": {},
   "source": [
    "# delete the original project\n",
    "# make a new project\n",
    "# add three items\n",
    "# force rerank of one of the items"
   ]
  },
  {
   "cell_type": "markdown",
   "metadata": {},
   "source": [
    "## A few Labels\n",
    "What does it look like when someone added labels"
   ]
  },
  {
   "cell_type": "code",
   "execution_count": 6,
   "metadata": {},
   "outputs": [
    {
     "name": "stdout",
     "output_type": "stream",
     "text": [
      "0    [{'dt': '2020-09-23 06:57:50.452000+00:00', 'selection': [{'selected': 'holiday'}, {'selected': 'gift giving'}], 'user': 'a816dd8b6147ee30342f1a0d7044cc26'}, {'dt': '2020-09-23 14:46:02.214000+00:00', 'selection': [{'selected': 'holiday'}, {'selected': 'gift giving'}, {'selected': 'family moments'}], 'user': '372ecb56fae98e9f33285cd493abd5df'}, {'dt': '2020-09-23 14:46:56.749000+00:00', 'selection': [{'selected': 'holiday'}, {'selected': 'gift giving'}], 'user': '2e3ba78d279fd5b5b952c3129d37133b'}, {'dt': '2020-09-23 14:48:45.881000+00:00', 'selection': [{'selected': 'holiday'}, {'selected': 'gift giving'}, {'selected': 'family moments'}], 'user': '06d1d611de099087710f21d8957b2403'}, {'dt': '2020-09-23 14:52:31.664000+00:00', 'selection': [{'selected': 'holiday'}, {'selected': 'gift giving'}, {'selected': 'family moments'}], 'user': '58fd62c55b4a9d72bc498c330925adea'}, {'dt': '2020-09-23 14:54:07.994000+00:00', 'selection': [{'selected': 'holiday'}, {'selected': 'gift giving'}, {'s...\n",
      "Name: labels, dtype: object\n"
     ]
    }
   ],
   "source": [
    "import ipywidgets as widgets\n",
    "from ipywidgets import interact, interactive, fixed, interact_manual\n",
    "import matplotlib.pyplot as plt\n",
    "import pandas as pd\n",
    "from IPython.display import display\n",
    "import ipywidgets as widgets\n",
    "from functools import partial\n",
    "\n",
    "campaign = lq.project.Project(jwt_token=LQ_JWT, url=LQ_ROOT_URL, ssl_verify=False)\n",
    "campaign_df = pd.DataFrame(campaign.retrieve_data(project_id='11de6843906842beb50d228ed9107914'))\n",
    "labels = campaign_df[campaign_df.id=='5f6b283a2525a124ccf2922e']['labels']\n",
    "print(labels)"
   ]
  },
  {
   "cell_type": "code",
   "execution_count": 7,
   "metadata": {},
   "outputs": [
    {
     "data": {
      "application/vnd.jupyter.widget-view+json": {
       "model_id": "be9d1240b3274315ab099de38be526f3",
       "version_major": 2,
       "version_minor": 0
      },
      "text/plain": [
       "interactive(children=(IntSlider(value=1, continuous_update=False, description='Votes', max=8, min=1), Output()…"
      ]
     },
     "metadata": {},
     "output_type": "display_data"
    }
   ],
   "source": [
    "def get_votes_by_count(labels, count=None):\n",
    "    if count is None:\n",
    "        count = len(labels.at[0])\n",
    "    options = []\n",
    "    for label in labels.at[0][0:count]:\n",
    "        for selection in label['selection']:\n",
    "            options.append(selection['selected'])\n",
    "    return options\n",
    "\n",
    "out = widgets.IntSlider(\n",
    "    value=1,\n",
    "    step=1,\n",
    "    min=1,\n",
    "    max=len(labels.at[0]),\n",
    "    description='Votes',\n",
    "    disabled=False,\n",
    "    continuous_update=False,\n",
    "    orientation='horizontal',\n",
    "    readout=True,\n",
    "    readout_format='d',\n",
    ")\n",
    "def update_barchart(votes):\n",
    "    return pd.Series(get_votes_by_count(labels,votes)).value_counts().sort_index().plot(kind='bar')\n",
    "\n",
    "interactive(update_barchart, votes=out)"
   ]
  },
  {
   "cell_type": "markdown",
   "metadata": {},
   "source": [
    "# End of Labeling Material\n",
    "\n",
    "Ready to label the world?  Just remember that out-of-context, your friends and family may not appreciate you giving them a `happy` or `sad` label, and much less so when you try to click a submit button afterwards! With the familiarity to a labeling system underway, we have the skills to return to task for content labeling.\n",
    "\n",
    "The next notebook, [notebook D](D_active_labels.ipynb) *(that link may not work)* returns to the contextual ads problem and applies what was learned here to the labeling task that everyone contributed to (hopefully!) before the workshop.\n"
   ]
  },
  {
   "cell_type": "code",
   "execution_count": null,
   "metadata": {},
   "outputs": [],
   "source": []
  }
 ],
 "metadata": {
  "kernelspec": {
   "display_name": "Python 3",
   "language": "python",
   "name": "python3"
  },
  "language_info": {
   "codemirror_mode": {
    "name": "ipython",
    "version": 3
   },
   "file_extension": ".py",
   "mimetype": "text/x-python",
   "name": "python",
   "nbconvert_exporter": "python",
   "pygments_lexer": "ipython3",
   "version": "3.6.7"
  }
 },
 "nbformat": 4,
 "nbformat_minor": 2
}
