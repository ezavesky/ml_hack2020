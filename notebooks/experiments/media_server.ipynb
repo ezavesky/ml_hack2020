{
 "cells": [
  {
   "cell_type": "code",
   "execution_count": null,
   "metadata": {},
   "outputs": [],
   "source": [
    "########################################################################\n",
    "# This block only needs to be run once.  If your notebook is inactive  #\n",
    "#     for an extended period of time and restarts, then you may have   #\n",
    "#     to re-run this again to reinstall vertica library.               #\n",
    "########################################################################\n",
    "import os\n",
    "os.environ['http_proxy'] = 'http://PROXY:8080'\n",
    "os.environ['https_proxy'] = 'http://PROXY:8080'\n",
    "\n",
    "# Some commands to get thigns running\n",
    "!pip install flask\n",
    "!pip install jupyter-dash\n",
    "!pip install plotly --upgrade\n",
    "!pip install plotly-express"
   ]
  },
  {
   "cell_type": "code",
   "execution_count": null,
   "metadata": {},
   "outputs": [],
   "source": [
    "from flask import Flask\n",
    "from flask import render_template\n",
    "\n",
    "# creates a Flask application, named app\n",
    "app = Flask(__name__)\n",
    "\n",
    "# a route where we will display a welcome message via an HTML template\n",
    "@app.route(\"/\")\n",
    "def index():\n",
    "    message = \"Hello, World\"\n",
    "    # return render_template('index.html', message=message)\n",
    "    return message\n",
    "\n",
    "\n",
    "@app.route('/file/<filename>')\n",
    "def display_image(filename):\n",
    "    return redirect(url_for('static', filename='file/' + filename), code=301)\n",
    "\n",
    "# run the application\n",
    "if __name__ == \"__main__\":\n",
    "    app.run(host=\"0.0.0.0\", port=9801, debug=True)\n"
   ]
  },
  {
   "cell_type": "code",
   "execution_count": null,
   "metadata": {},
   "outputs": [],
   "source": [
    "import plotly.express as px\n",
    "from jupyter_dash import JupyterDash\n",
    "import dash_core_components as dcc\n",
    "import dash_html_components as html\n",
    "from dash.dependencies import Input, Output# Load Data\n",
    "df = px.data.tips()# Build App\n",
    "app = JupyterDash(__name__)\n",
    "app.layout = html.Div([\n",
    "    html.H1(\"JupyterDash Demo\"),\n",
    "    dcc.Graph(id='graph'),\n",
    "    html.Label([\n",
    "        \"colorscale\",\n",
    "        dcc.Dropdown(\n",
    "            id='colorscale-dropdown', clearable=False,\n",
    "            value='plasma', options=[\n",
    "                {'label': c, 'value': c}\n",
    "                for c in px.colors.named_colorscales()\n",
    "            ])\n",
    "    ]),\n",
    "])# Define callback to update graph\n",
    "@app.callback(\n",
    "    Output('graph', 'figure'),\n",
    "    [Input(\"colorscale-dropdown\", \"value\")]\n",
    ")\n",
    "def update_figure(colorscale):\n",
    "    return px.scatter(\n",
    "        df, x=\"total_bill\", y=\"tip\", color=\"size\",\n",
    "        color_continuous_scale=colorscale,\n",
    "        render_mode=\"webgl\", title=\"Tips\"\n",
    "    )# Run app and display result inline in the notebook\n",
    "app.run_server(mode='external')"
   ]
  },
  {
   "cell_type": "code",
   "execution_count": null,
   "metadata": {},
   "outputs": [],
   "source": []
  }
 ],
 "metadata": {
  "kernelspec": {
   "display_name": "Python 3",
   "language": "python",
   "name": "python3"
  },
  "language_info": {
   "codemirror_mode": {
    "name": "ipython",
    "version": 3
   },
   "file_extension": ".py",
   "mimetype": "text/x-python",
   "name": "python",
   "nbconvert_exporter": "python",
   "pygments_lexer": "ipython3",
   "version": "3.6.7"
  }
 },
 "nbformat": 4,
 "nbformat_minor": 2
}
